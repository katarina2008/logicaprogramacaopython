{
  "nbformat": 4,
  "nbformat_minor": 0,
  "metadata": {
    "colab": {
      "provenance": [],
      "authorship_tag": "ABX9TyOUMgi+Kz758uMabMWM7oao",
      "include_colab_link": true
    },
    "kernelspec": {
      "name": "python3",
      "display_name": "Python 3"
    },
    "language_info": {
      "name": "python"
    }
  },
  "cells": [
    {
      "cell_type": "markdown",
      "metadata": {
        "id": "view-in-github",
        "colab_type": "text"
      },
      "source": [
        "<a href=\"https://colab.research.google.com/github/katarina2008/logicaprogramacaopython/blob/main/variaveis%20e%20operadores%20aritimeticos/VariaveiseOperadoresAritimeticos.ipynb\" target=\"_parent\"><img src=\"https://colab.research.google.com/assets/colab-badge.svg\" alt=\"Open In Colab\"/></a>"
      ]
    },
    {
      "cell_type": "markdown",
      "source": [
        "#Criando Variaveis"
      ],
      "metadata": {
        "id": "IJL1vNOgBe0Y"
      }
    },
    {
      "cell_type": "markdown",
      "source": [
        "### area do quadrado\n"
      ],
      "metadata": {
        "id": "7DKtHjS4KRy4"
      }
    },
    {
      "cell_type": "code",
      "execution_count": null,
      "metadata": {
        "colab": {
          "base_uri": "https://localhost:8080/"
        },
        "id": "wvM5voijBB_m",
        "outputId": "052ad3bd-b0af-449e-bf16-1e4854966ac7"
      },
      "outputs": [
        {
          "output_type": "stream",
          "name": "stdout",
          "text": [
            " Digite o lado do quadrado2\n",
            " A área do quadrado é:  4.0\n"
          ]
        }
      ],
      "source": [
        "#entrada\n",
        "l = float(input(\" Digite o lado do quadrado\"))\n",
        "#processamento\n",
        "a = l*l\n",
        "#saida\n",
        "print(\" A área do quadrado é: \", a)"
      ]
    },
    {
      "cell_type": "markdown",
      "source": [
        "### area do retangulo\n",
        "\n"
      ],
      "metadata": {
        "id": "9ICHqFbmKdXa"
      }
    },
    {
      "cell_type": "code",
      "source": [
        "#entrada\n",
        "base = float(input(\"Digite a base do retangulo: \"))\n",
        "alt = float (input(\"Digite a altura do retangulo: \"))\n",
        "#processamento\n",
        "a = base*alt\n",
        "#saida\n",
        "print(\"A área do retangulo é: \", a)"
      ],
      "metadata": {
        "colab": {
          "base_uri": "https://localhost:8080/"
        },
        "id": "smjwtzh1Knlm",
        "outputId": "9f4d61da-b379-45bf-c077-c67370816404"
      },
      "execution_count": null,
      "outputs": [
        {
          "output_type": "stream",
          "name": "stdout",
          "text": [
            "Digite a base do retangulo: 4\n",
            "Digite a altura do retangulo: 2\n",
            "A área do retangulo é:  8.0\n"
          ]
        }
      ]
    },
    {
      "cell_type": "markdown",
      "source": [
        "###area do triangulo\n"
      ],
      "metadata": {
        "id": "kQKBAPvELnv2"
      }
    },
    {
      "cell_type": "code",
      "source": [
        "#entrada\n",
        "base = float(input(\" Digite a base do triangulo: \"))\n",
        "alt = float(input(\" Digite a altuta do triangulo: \"))\n",
        "#processamento\n",
        "a = base*alt/2\n",
        "#saida\n",
        "print(\" A área do triangulo é: \", a)"
      ],
      "metadata": {
        "colab": {
          "base_uri": "https://localhost:8080/"
        },
        "id": "iHbZx6cqLt05",
        "outputId": "33e464ad-1cd5-4c7e-cd01-1baf05abdd2d"
      },
      "execution_count": null,
      "outputs": [
        {
          "output_type": "stream",
          "name": "stdout",
          "text": [
            " Digite a base do triangulo: 2\n",
            " Digite a altuta do triangulo: 5\n",
            " A área do triangulo é:  5.0\n"
          ]
        }
      ]
    },
    {
      "cell_type": "markdown",
      "source": [
        "### area do trapézio"
      ],
      "metadata": {
        "id": "9cV1kCOdMsFb"
      }
    },
    {
      "cell_type": "code",
      "source": [
        "#entrada\n",
        "basemaior  = float(input(\" Digite a base maior do trapézio: \"))\n",
        "basemenor = float(input(\" Digite a base menor do trapézio: \"))\n",
        "alt = float(input(\" Digite a altura do trapézio: \"))\n",
        "#processamento\n",
        "a = ((basemaior+basemenor)*alt)/2\n",
        "#saida\n",
        "print(\" A área do trapézio é: \", a)"
      ],
      "metadata": {
        "colab": {
          "base_uri": "https://localhost:8080/"
        },
        "id": "EWaYy9gJMwJD",
        "outputId": "76e70897-a3e4-487c-e98c-c663dbd99799"
      },
      "execution_count": null,
      "outputs": [
        {
          "output_type": "stream",
          "name": "stdout",
          "text": [
            " Digite a base maior do trapézio: 3\n",
            " Digite a base menor do trapézio: 2\n",
            " Digite a altura do trapézio: 4\n",
            " A área do trapézio é:  10.0\n"
          ]
        }
      ]
    },
    {
      "cell_type": "markdown",
      "source": [
        "###calculo de azulejos"
      ],
      "metadata": {
        "id": "5tHYnGZwQ-ou"
      }
    },
    {
      "cell_type": "code",
      "source": [
        "#entrada\n",
        "baseazulejo = float(input(\" Digite a largura do azulejo em metros: \"))\n",
        "altazulejo = float(input(\" Digite a altura do azulejo em metros: \"))\n",
        "baseparede = float(input(\" Digite a largura da parede em centímetros: \"))\n",
        "altparede = float(input(\" Digite a altura da parede em centímetros: \"))\n",
        "#processamento\n",
        "areaazulejo = (baseazulejo*altazulejo)\n",
        "areaparede = (baseparede*altparede)\n",
        "areadoazulejom = (areaazulejo/100)\n",
        "total = (areaparede/areadoazulejom)\n",
        "#saida\n",
        "print(\" A área do azulejo é: \", areaazulejo)\n",
        "print(\" A área da parede é: \", areaparede)\n",
        "print(\" A quantidade de azulejos necessária é: \", total)\n"
      ],
      "metadata": {
        "colab": {
          "base_uri": "https://localhost:8080/"
        },
        "id": "YIdckar2RH6o",
        "outputId": "d519b3f4-83cb-4779-b15f-130a04954d65"
      },
      "execution_count": null,
      "outputs": [
        {
          "output_type": "stream",
          "name": "stdout",
          "text": [
            " Digite a largura do azulejo em metros: 3\n",
            " Digite a altura do azulejo em metros: 4\n",
            " Digite a largura da parede em centímetros: 6\n",
            " Digite a altura da parede em centímetros: 4\n",
            " A área do azulejo é:  12.0\n",
            " A área da parede é:  24.0\n",
            " A quantidade de azulejos necessária é:  200.0\n"
          ]
        }
      ]
    },
    {
      "cell_type": "markdown",
      "source": [],
      "metadata": {
        "id": "Y9YCkdfPWCAP"
      }
    }
  ]
}